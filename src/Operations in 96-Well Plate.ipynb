{
 "cells": [
  {
   "cell_type": "markdown",
   "metadata": {},
   "source": [
    "Materials "
   ]
  },
  {
   "cell_type": "code",
   "execution_count": 28,
   "metadata": {},
   "outputs": [],
   "source": [
    "fluorescents = [\"blue\", \"red\", \"green\", \"violet\"]\n",
    "dilutions = [10, 50, 100, 500, 1000]\n",
    "total_vol = [500, 1000, 2000, 5000] #in uL\n",
    "\n",
    "#Each student performs 20 operations \n",
    "#Every student perform 20 operations in the 96 well plate in designated wells. Add  pure dye to 4  \n",
    "def get_well(student_num):\n",
    "    plate_pairs = [[1, 2], [4,5], [7,8], [10, 11]]\n",
    "    alphabet = []\n",
    "    for letter in range(65, 73):\n",
    "        alphabet.append(chr(letter))\n",
    "    plate_wells = []\n",
    "    well = []\n",
    "    for i in alphabet:\n",
    "        for j in plate_pairs[student_num - 1]:\n",
    "            well.append(str(i+str(j)))\n",
    "    return well"
   ]
  },
  {
   "cell_type": "markdown",
   "metadata": {},
   "source": [
    "Calculations"
   ]
  },
  {
   "cell_type": "code",
   "execution_count": 59,
   "metadata": {},
   "outputs": [
    {
     "data": {
      "text/plain": [
       "[[['Add 495.0 uL of water into D10', 'Add 5.0 uL of violet into D10'],\n",
       "  ['Add 980.0 uL of water into A11', 'Add 20.0 uL of violet into A11'],\n",
       "  ['Add 999.0 uL of water into H10', 'Add 1.0 uL of violet into H10'],\n",
       "  ['Add 4900.0 uL of water into H10', 'Add 100.0 uL of violet into H10'],\n",
       "  ['Add 4900.0 uL of water into E11', 'Add 100.0 uL of red into E11'],\n",
       "  ['Add 4900.0 uL of water into E11', 'Add 100.0 uL of violet into E11'],\n",
       "  ['Add 1996.0 uL of water into F11', 'Add 4.0 uL of green into F11'],\n",
       "  ['Add 1800.0 uL of water into H11', 'Add 200.0 uL of violet into H11'],\n",
       "  ['Add 490.0 uL of water into G10', 'Add 10.0 uL of green into G10'],\n",
       "  ['Add 999.0 uL of water into H11', 'Add 1.0 uL of violet into H11'],\n",
       "  ['Add 998.0 uL of water into G11', 'Add 2.0 uL of blue into G11'],\n",
       "  ['Add 450.0 uL of water into G10', 'Add 50.0 uL of green into G10'],\n",
       "  ['Add 1996.0 uL of water into B10', 'Add 4.0 uL of green into B10'],\n",
       "  ['Add 499.5 uL of water into F11', 'Add 0.5 uL of green into F11'],\n",
       "  ['Add 499.0 uL of water into B11', 'Add 1.0 uL of violet into B11'],\n",
       "  ['Add 4995.0 uL of water into H10', 'Add 5.0 uL of red into H10'],\n",
       "  ['Add 990.0 uL of water into A10', 'Add 10.0 uL of blue into A10'],\n",
       "  ['Add 4995.0 uL of water into A11', 'Add 5.0 uL of blue into A11'],\n",
       "  ['Add 4950.0 uL of water into G11', 'Add 50.0 uL of red into G11'],\n",
       "  ['Add 490.0 uL of water into C10', 'Add 10.0 uL of blue into C10']],\n",
       " [['Add 495.0 uL of water into G2', 'Add 5.0 uL of green into G2'],\n",
       "  ['Add 4500.0 uL of water into F1', 'Add 500.0 uL of blue into F1'],\n",
       "  ['Add 1960.0 uL of water into E2', 'Add 40.0 uL of blue into E2'],\n",
       "  ['Add 450.0 uL of water into E1', 'Add 50.0 uL of red into E1'],\n",
       "  ['Add 1800.0 uL of water into G1', 'Add 200.0 uL of blue into G1'],\n",
       "  ['Add 1998.0 uL of water into B1', 'Add 2.0 uL of red into B1'],\n",
       "  ['Add 499.0 uL of water into D1', 'Add 1.0 uL of green into D1'],\n",
       "  ['Add 495.0 uL of water into G2', 'Add 5.0 uL of red into G2'],\n",
       "  ['Add 4900.0 uL of water into C1', 'Add 100.0 uL of red into C1'],\n",
       "  ['Add 1980.0 uL of water into E2', 'Add 20.0 uL of red into E2'],\n",
       "  ['Add 1800.0 uL of water into A2', 'Add 200.0 uL of green into A2'],\n",
       "  ['Add 4900.0 uL of water into A1', 'Add 100.0 uL of blue into A1'],\n",
       "  ['Add 900.0 uL of water into E2', 'Add 100.0 uL of green into E2'],\n",
       "  ['Add 4500.0 uL of water into D1', 'Add 500.0 uL of red into D1'],\n",
       "  ['Add 450.0 uL of water into A2', 'Add 50.0 uL of green into A2'],\n",
       "  ['Add 998.0 uL of water into E1', 'Add 2.0 uL of violet into E1'],\n",
       "  ['Add 4900.0 uL of water into A1', 'Add 100.0 uL of violet into A1'],\n",
       "  ['Add 980.0 uL of water into A2', 'Add 20.0 uL of green into A2'],\n",
       "  ['Add 998.0 uL of water into G1', 'Add 2.0 uL of green into G1'],\n",
       "  ['Add 900.0 uL of water into A2', 'Add 100.0 uL of green into A2']],\n",
       " [['Add 450.0 uL of water into B4', 'Add 50.0 uL of red into B4'],\n",
       "  ['Add 499.0 uL of water into F5', 'Add 1.0 uL of red into F5'],\n",
       "  ['Add 4500.0 uL of water into B5', 'Add 500.0 uL of red into B5'],\n",
       "  ['Add 495.0 uL of water into D4', 'Add 5.0 uL of blue into D4'],\n",
       "  ['Add 490.0 uL of water into D5', 'Add 10.0 uL of red into D5'],\n",
       "  ['Add 450.0 uL of water into E4', 'Add 50.0 uL of blue into E4'],\n",
       "  ['Add 495.0 uL of water into C4', 'Add 5.0 uL of blue into C4'],\n",
       "  ['Add 1998.0 uL of water into H4', 'Add 2.0 uL of red into H4'],\n",
       "  ['Add 980.0 uL of water into F5', 'Add 20.0 uL of violet into F5'],\n",
       "  ['Add 1980.0 uL of water into E5', 'Add 20.0 uL of red into E5'],\n",
       "  ['Add 4900.0 uL of water into H4', 'Add 100.0 uL of blue into H4'],\n",
       "  ['Add 450.0 uL of water into E5', 'Add 50.0 uL of red into E5'],\n",
       "  ['Add 4900.0 uL of water into G4', 'Add 100.0 uL of violet into G4'],\n",
       "  ['Add 1960.0 uL of water into H5', 'Add 40.0 uL of blue into H5'],\n",
       "  ['Add 1960.0 uL of water into F4', 'Add 40.0 uL of violet into F4'],\n",
       "  ['Add 1980.0 uL of water into G4', 'Add 20.0 uL of blue into G4'],\n",
       "  ['Add 1998.0 uL of water into E5', 'Add 2.0 uL of blue into E5'],\n",
       "  ['Add 4995.0 uL of water into D5', 'Add 5.0 uL of violet into D5'],\n",
       "  ['Add 980.0 uL of water into G4', 'Add 20.0 uL of red into G4'],\n",
       "  ['Add 980.0 uL of water into A5', 'Add 20.0 uL of red into A5']],\n",
       " [['Add 1998.0 uL of water into C8', 'Add 2.0 uL of green into C8'],\n",
       "  ['Add 499.5 uL of water into D7', 'Add 0.5 uL of red into D7'],\n",
       "  ['Add 990.0 uL of water into C7', 'Add 10.0 uL of violet into C7'],\n",
       "  ['Add 1996.0 uL of water into H8', 'Add 4.0 uL of violet into H8'],\n",
       "  ['Add 4990.0 uL of water into D8', 'Add 10.0 uL of blue into D8'],\n",
       "  ['Add 4990.0 uL of water into F8', 'Add 10.0 uL of red into F8'],\n",
       "  ['Add 1998.0 uL of water into D7', 'Add 2.0 uL of red into D7'],\n",
       "  ['Add 4950.0 uL of water into F8', 'Add 50.0 uL of violet into F8'],\n",
       "  ['Add 1800.0 uL of water into C7', 'Add 200.0 uL of green into C7'],\n",
       "  ['Add 1998.0 uL of water into F8', 'Add 2.0 uL of green into F8'],\n",
       "  ['Add 1998.0 uL of water into C8', 'Add 2.0 uL of blue into C8'],\n",
       "  ['Add 1998.0 uL of water into B7', 'Add 2.0 uL of green into B7'],\n",
       "  ['Add 450.0 uL of water into H8', 'Add 50.0 uL of green into H8'],\n",
       "  ['Add 499.0 uL of water into A8', 'Add 1.0 uL of blue into A8'],\n",
       "  ['Add 998.0 uL of water into B7', 'Add 2.0 uL of red into B7'],\n",
       "  ['Add 4995.0 uL of water into F8', 'Add 5.0 uL of red into F8'],\n",
       "  ['Add 499.5 uL of water into H8', 'Add 0.5 uL of violet into H8'],\n",
       "  ['Add 4950.0 uL of water into E7', 'Add 50.0 uL of green into E7'],\n",
       "  ['Add 499.0 uL of water into G8', 'Add 1.0 uL of blue into G8'],\n",
       "  ['Add 999.0 uL of water into B7', 'Add 1.0 uL of green into B7']]]"
      ]
     },
     "execution_count": 59,
     "metadata": {},
     "output_type": "execute_result"
    }
   ],
   "source": [
    "from random import randint\n",
    "def pipette_quiz(student_num):\n",
    "    operations = []\n",
    "    for i in range(20):\n",
    "        single_operation = []\n",
    "        wells = get_well(student_num-1)\n",
    "        pick_dye = fluorescents[randint(0, len(fluorescents)-1)]\n",
    "        pick_dil = dilutions[randint(0, len(dilutions)-1)]\n",
    "        pick_vol = total_vol[randint(0, len(total_vol)-1)]\n",
    "        pick_well = wells[randint(0, len(wells)-1)]\n",
    "        wells.remove(pick_well)\n",
    "#         print(\"Volume:\", pick_vol, \"Dilution:\", pick_dil, \"Fluorescent:\", pick_dye)\n",
    "        ratio = pick_vol / pick_dil\n",
    "        single_operation.append(str(\"Add \"+ str(ratio*(pick_dil - 1))+ \" uL of water into \"+ pick_well))\n",
    "        single_operation.append(str(\"Add \"+ str(ratio) + \" uL of \"+ pick_dye+ \" into \"+pick_well))\n",
    "        operations.append(single_operation)\n",
    "    return operations\n",
    "#Enter 1, 2, 3, or 4 to pipette_quiz. 1 represents student 1, 2 represents student 2, ...\n",
    "# Max of 4 students per 96 well plate\n",
    "plate_operations = []\n",
    "for i in range(1, 5):\n",
    "    plate_operations.append(pipette_quiz(i))\n",
    "plate_operations\n",
    "# from tabulate import tabulate\n",
    "# import pandas as pd\n",
    "# import csv\n",
    "\n",
    "# # write it\n",
    "# with open('test_file.csv', 'w') as csvfile:\n",
    "#     writer = csv.writer(csvfile)\n",
    "#     [writer.writerow(r) for r in plate_operations[0]]\n",
    "# pd.read_table('test_file.csv', header = None, names = [\"steps\"])"
   ]
  },
  {
   "cell_type": "markdown",
   "metadata": {},
   "source": [
    "Automation of pipette training.  The input to your process is a flatfile with a list of student names. The output is a file with an evaluation of pipetting competence.It should include students delivering 0.5 uL of viscous liquid, 25 uL of watery liquid, and 1000 uL of watery liquid.  Minimally.  That is my standard in-person quiz. It may involve additional containers and the preparation of dilutions.  Steps that require mixing of liquids would be good to include. Beyond that the project is pretty open-ended, and the rest of this is suggestions which you can ignore if you think of something better.The code will presumably ask students to do pipetting involving transfer of fluorescent liquids into positions of 96-well plates.  The plate is then read for fluorescence and students are scored automatically from the data.You may ask an experimentalist to perform any actions required that can be completed in <<1 hr and return you data.  It would be wise for you two to do it too so that you know exactly what you’re dealing with.It would be nice if the liquid handling operations were expressed as a Semiprotocol file, which would then be compatible with the PipetteAid being built.20 pipetting operations is a ballpark limit to avoid being excessively time-consumingYou can work together or separately on different approaches"
   ]
  },
  {
   "cell_type": "code",
   "execution_count": null,
   "metadata": {},
   "outputs": [],
   "source": []
  },
  {
   "cell_type": "code",
   "execution_count": null,
   "metadata": {},
   "outputs": [],
   "source": []
  }
 ],
 "metadata": {
  "kernelspec": {
   "display_name": "Python 3",
   "language": "python",
   "name": "python3"
  },
  "language_info": {
   "codemirror_mode": {
    "name": "ipython",
    "version": 3
   },
   "file_extension": ".py",
   "mimetype": "text/x-python",
   "name": "python",
   "nbconvert_exporter": "python",
   "pygments_lexer": "ipython3",
   "version": "3.7.2"
  }
 },
 "nbformat": 4,
 "nbformat_minor": 2
}
