{
 "cells": [
  {
   "cell_type": "markdown",
   "metadata": {},
   "source": [
    "## Functions"
   ]
  },
  {
   "cell_type": "code",
   "execution_count": 34,
   "metadata": {
    "collapsed": false
   },
   "outputs": [],
   "source": [
    "import matplotlib.pyplot as plt\n",
    "%matplotlib inline  \n",
    "import numpy as np\n",
    "import pandas as pd\n",
    "\n",
    "def slope_intercept(x_val, y_val):\n",
    "    x=np.array(x_val)\n",
    "    y=np.array(y_val)\n",
    "    m=(((np.mean(x)*np.mean(y))) - np.mean(x*y)) / ((np.mean(x)*np.mean(x)) - np.mean(x*x))\n",
    "    m=round(m, 2)\n",
    "    b=(np.mean(y) - np.mean(x)*m)\n",
    "    b = round(b, 2)\n",
    "    return m, b\n",
    "\n",
    "def target(student):\n",
    "    return [student[0], student[0]/2, student[0]/4, student[0]/8, student[0]/16, student[0]]\n",
    "\n",
    "def plot_student(student):\n",
    "    x = [1, 1/2, 1/4, 1/8, 1/16, 1]\n",
    "    labels = [\"1-norm\", \"2\", \"3\", \"4\", \"5\", \"6\"]\n",
    "    diff = np.array(target(student)) * 0.21\n",
    "    m, b = slope_intercept(x, student)\n",
    "    reg_line=[(m*i)+b for i in x]\n",
    "\n",
    "    plt.figure(figsize=(10, 8))\n",
    "    plt.scatter(x, student, color=\"r\", s = 12)\n",
    "    plt.plot(x, target(student))\n",
    "    plt.plot(x, target(student) - diff, linewidth=.3)\n",
    "    plt.title(\"Pipetting Accuracy Detection\")\n",
    "    plt.xlabel(\"Dilution\")\n",
    "    plt.ylabel(\"Read\")\n",
    "    plt.plot(x, target(student) + diff, linewidth=.3)\n",
    "    for i in range(len(student)):\n",
    "        plt.text(x[i] + 0.01, student[i], labels[i])\n",
    "    plt.show()\n",
    "\n",
    "def scoring(student, row):\n",
    "    diff = np.array(target(student)) * 0.21\n",
    "    student_diff = abs(np.array(student) - np.array(target(student)))\n",
    "    passes = list(student_diff <= diff)\n",
    "    df = pd.DataFrame(passes).T\n",
    "    df.columns = [1, 2, 3, 4, 5, 6]\n",
    "    df = df.replace({True: 'Pass', False: 'Fail'})\n",
    "    df = df.rename(index={0: row})\n",
    "    return df\n"
   ]
  },
  {
   "cell_type": "markdown",
   "metadata": {},
   "source": [
    "## Student Data"
   ]
  },
  {
   "cell_type": "code",
   "execution_count": 35,
   "metadata": {
    "collapsed": true
   },
   "outputs": [],
   "source": [
    "s1 = [62750, 39613, 18598, 10353, 6788, 60500]\n",
    "s2 = [62859, 37710,\t15034, 6578, 5780, 45633]\n",
    "s3 = [60168, 25897, 12165, 6585, 5972, 43010]\n"
   ]
  },
  {
   "cell_type": "markdown",
   "metadata": {},
   "source": [
    "## Example Output"
   ]
  },
  {
   "cell_type": "code",
   "execution_count": 36,
   "metadata": {
    "collapsed": false
   },
   "outputs": [
    {
     "data": {
      "text/html": [
       "<div>\n",
       "<style scoped>\n",
       "    .dataframe tbody tr th:only-of-type {\n",
       "        vertical-align: middle;\n",
       "    }\n",
       "\n",
       "    .dataframe tbody tr th {\n",
       "        vertical-align: top;\n",
       "    }\n",
       "\n",
       "    .dataframe thead th {\n",
       "        text-align: right;\n",
       "    }\n",
       "</style>\n",
       "<table border=\"1\" class=\"dataframe\">\n",
       "  <thead>\n",
       "    <tr style=\"text-align: right;\">\n",
       "      <th></th>\n",
       "      <th>1</th>\n",
       "      <th>2</th>\n",
       "      <th>3</th>\n",
       "      <th>4</th>\n",
       "      <th>5</th>\n",
       "      <th>6</th>\n",
       "    </tr>\n",
       "  </thead>\n",
       "  <tbody>\n",
       "    <tr>\n",
       "      <th>A</th>\n",
       "      <td>Pass</td>\n",
       "      <td>Fail</td>\n",
       "      <td>Pass</td>\n",
       "      <td>Fail</td>\n",
       "      <td>Fail</td>\n",
       "      <td>Pass</td>\n",
       "    </tr>\n",
       "  </tbody>\n",
       "</table>\n",
       "</div>"
      ],
      "text/plain": [
       "      1     2     3     4     5     6\n",
       "A  Pass  Fail  Pass  Fail  Fail  Pass"
      ]
     },
     "execution_count": 36,
     "metadata": {},
     "output_type": "execute_result"
    }
   ],
   "source": [
    "scoring(s1, \"A\")"
   ]
  },
  {
   "cell_type": "code",
   "execution_count": 37,
   "metadata": {
    "collapsed": false
   },
   "outputs": [
    {
     "data": {
      "image/png": "[encoded data removed]",
      "text/plain": [
       "<Figure size 1000x800 with 1 Axes>"
      ]
     },
     "metadata": {},
     "output_type": "display_data"
    }
   ],
   "source": [
    "plot_student(s1)"
   ]
  },
  {
   "cell_type": "code",
   "execution_count": null,
   "metadata": {
    "collapsed": true
   },
   "outputs": [],
   "source": []
  },
  {
   "cell_type": "code",
   "execution_count": null,
   "metadata": {
    "collapsed": true
   },
   "outputs": [],
   "source": []
  }
 ],
 "metadata": {
  "kernelspec": {
   "display_name": "Python [Anaconda3]",
   "language": "python",
   "name": "Python [Anaconda3]"
  },
  "language_info": {
   "codemirror_mode": {
    "name": "ipython",
    "version": 3
   },
   "file_extension": ".py",
   "mimetype": "text/x-python",
   "name": "python",
   "nbconvert_exporter": "python",
   "pygments_lexer": "ipython3",
   "version": "3.5.6"
  }
 },
 "nbformat": 4,
 "nbformat_minor": 2
}
